{
 "cells": [
  {
   "cell_type": "code",
   "execution_count": 58,
   "id": "07201ce5",
   "metadata": {},
   "outputs": [],
   "source": [
    "import numpy as np\n",
    "import pandas as pd\n",
    "import os\n",
    "from collections import defaultdict"
   ]
  },
  {
   "cell_type": "code",
   "execution_count": 59,
   "id": "4831557b",
   "metadata": {},
   "outputs": [],
   "source": [
    "df = pd.read_csv(\"C:/Users/abedi/OneDrive/Desktop/Naive Bayes Spam Classification/email classification.csv\")"
   ]
  },
  {
   "cell_type": "code",
   "execution_count": 60,
   "id": "37b28dc4",
   "metadata": {},
   "outputs": [
    {
     "data": {
      "text/html": [
       "<div>\n",
       "<style scoped>\n",
       "    .dataframe tbody tr th:only-of-type {\n",
       "        vertical-align: middle;\n",
       "    }\n",
       "\n",
       "    .dataframe tbody tr th {\n",
       "        vertical-align: top;\n",
       "    }\n",
       "\n",
       "    .dataframe thead th {\n",
       "        text-align: right;\n",
       "    }\n",
       "</style>\n",
       "<table border=\"1\" class=\"dataframe\">\n",
       "  <thead>\n",
       "    <tr style=\"text-align: right;\">\n",
       "      <th></th>\n",
       "      <th>Category</th>\n",
       "      <th>Message</th>\n",
       "    </tr>\n",
       "  </thead>\n",
       "  <tbody>\n",
       "    <tr>\n",
       "      <th>0</th>\n",
       "      <td>ham</td>\n",
       "      <td>Go until jurong point, crazy.. Available only ...</td>\n",
       "    </tr>\n",
       "    <tr>\n",
       "      <th>1</th>\n",
       "      <td>ham</td>\n",
       "      <td>Ok lar... Joking wif u oni...</td>\n",
       "    </tr>\n",
       "    <tr>\n",
       "      <th>2</th>\n",
       "      <td>spam</td>\n",
       "      <td>Free entry in 2 a wkly comp to win FA Cup fina...</td>\n",
       "    </tr>\n",
       "    <tr>\n",
       "      <th>3</th>\n",
       "      <td>ham</td>\n",
       "      <td>U dun say so early hor... U c already then say...</td>\n",
       "    </tr>\n",
       "    <tr>\n",
       "      <th>4</th>\n",
       "      <td>ham</td>\n",
       "      <td>Nah I don't think he goes to usf, he lives aro...</td>\n",
       "    </tr>\n",
       "  </tbody>\n",
       "</table>\n",
       "</div>"
      ],
      "text/plain": [
       "  Category                                            Message\n",
       "0      ham  Go until jurong point, crazy.. Available only ...\n",
       "1      ham                      Ok lar... Joking wif u oni...\n",
       "2     spam  Free entry in 2 a wkly comp to win FA Cup fina...\n",
       "3      ham  U dun say so early hor... U c already then say...\n",
       "4      ham  Nah I don't think he goes to usf, he lives aro..."
      ]
     },
     "execution_count": 60,
     "metadata": {},
     "output_type": "execute_result"
    }
   ],
   "source": [
    "df.head()"
   ]
  },
  {
   "cell_type": "code",
   "execution_count": 61,
   "id": "8cadcfcd",
   "metadata": {},
   "outputs": [
    {
     "name": "stdout",
     "output_type": "stream",
     "text": [
      "<class 'pandas.core.frame.DataFrame'>\n",
      "RangeIndex: 5572 entries, 0 to 5571\n",
      "Data columns (total 2 columns):\n",
      " #   Column    Non-Null Count  Dtype \n",
      "---  ------    --------------  ----- \n",
      " 0   Category  5572 non-null   object\n",
      " 1   Message   5572 non-null   object\n",
      "dtypes: object(2)\n",
      "memory usage: 87.2+ KB\n"
     ]
    }
   ],
   "source": [
    "df.info()"
   ]
  },
  {
   "cell_type": "code",
   "execution_count": 62,
   "id": "99beb0a3",
   "metadata": {},
   "outputs": [
    {
     "data": {
      "text/html": [
       "<div>\n",
       "<style scoped>\n",
       "    .dataframe tbody tr th:only-of-type {\n",
       "        vertical-align: middle;\n",
       "    }\n",
       "\n",
       "    .dataframe tbody tr th {\n",
       "        vertical-align: top;\n",
       "    }\n",
       "\n",
       "    .dataframe thead th {\n",
       "        text-align: right;\n",
       "    }\n",
       "</style>\n",
       "<table border=\"1\" class=\"dataframe\">\n",
       "  <thead>\n",
       "    <tr style=\"text-align: right;\">\n",
       "      <th></th>\n",
       "      <th>Category</th>\n",
       "      <th>Message</th>\n",
       "    </tr>\n",
       "  </thead>\n",
       "  <tbody>\n",
       "    <tr>\n",
       "      <th>count</th>\n",
       "      <td>5572</td>\n",
       "      <td>5572</td>\n",
       "    </tr>\n",
       "    <tr>\n",
       "      <th>unique</th>\n",
       "      <td>2</td>\n",
       "      <td>5157</td>\n",
       "    </tr>\n",
       "    <tr>\n",
       "      <th>top</th>\n",
       "      <td>ham</td>\n",
       "      <td>Sorry, I'll call later</td>\n",
       "    </tr>\n",
       "    <tr>\n",
       "      <th>freq</th>\n",
       "      <td>4825</td>\n",
       "      <td>30</td>\n",
       "    </tr>\n",
       "  </tbody>\n",
       "</table>\n",
       "</div>"
      ],
      "text/plain": [
       "       Category                 Message\n",
       "count      5572                    5572\n",
       "unique        2                    5157\n",
       "top         ham  Sorry, I'll call later\n",
       "freq       4825                      30"
      ]
     },
     "execution_count": 62,
     "metadata": {},
     "output_type": "execute_result"
    }
   ],
   "source": [
    "df.describe()"
   ]
  },
  {
   "cell_type": "code",
   "execution_count": 63,
   "id": "e6309aa2",
   "metadata": {},
   "outputs": [
    {
     "data": {
      "text/plain": [
       "Category\n",
       "ham     4825\n",
       "spam     747\n",
       "Name: count, dtype: int64"
      ]
     },
     "execution_count": 63,
     "metadata": {},
     "output_type": "execute_result"
    }
   ],
   "source": [
    "df['Category'].value_counts()"
   ]
  },
  {
   "cell_type": "code",
   "execution_count": 64,
   "id": "11e91ee8",
   "metadata": {},
   "outputs": [],
   "source": [
    "# Separate ham and spam\n",
    "ham_df = df[df['Category'] == 'ham']\n",
    "spam_df = df[df['Category'] == 'spam']\n",
    "\n",
    "# Downsample ham to the same number as spam\n",
    "ham_sample = ham_df.sample(n=len(spam_df), random_state=42)\n",
    "\n",
    "# Combine and shuffle\n",
    "df_balanced = pd.concat([ham_sample, spam_df]).sample(frac=1, random_state=42).reset_index(drop=True)"
   ]
  },
  {
   "cell_type": "code",
   "execution_count": 65,
   "id": "5118a605",
   "metadata": {},
   "outputs": [],
   "source": [
    "# Rebuild everything using df_balanced\n",
    "df = df_balanced.copy()"
   ]
  },
  {
   "cell_type": "code",
   "execution_count": 66,
   "id": "b3fcdf5c",
   "metadata": {},
   "outputs": [
    {
     "data": {
      "text/html": [
       "<div>\n",
       "<style scoped>\n",
       "    .dataframe tbody tr th:only-of-type {\n",
       "        vertical-align: middle;\n",
       "    }\n",
       "\n",
       "    .dataframe tbody tr th {\n",
       "        vertical-align: top;\n",
       "    }\n",
       "\n",
       "    .dataframe thead th {\n",
       "        text-align: right;\n",
       "    }\n",
       "</style>\n",
       "<table border=\"1\" class=\"dataframe\">\n",
       "  <thead>\n",
       "    <tr style=\"text-align: right;\">\n",
       "      <th></th>\n",
       "      <th>Category</th>\n",
       "      <th>Message</th>\n",
       "    </tr>\n",
       "  </thead>\n",
       "  <tbody>\n",
       "    <tr>\n",
       "      <th>0</th>\n",
       "      <td>spam</td>\n",
       "      <td>URGENT, IMPORTANT INFORMATION FOR O2 USER. TOD...</td>\n",
       "    </tr>\n",
       "    <tr>\n",
       "      <th>1</th>\n",
       "      <td>spam</td>\n",
       "      <td>Panasonic &amp; BluetoothHdset FREE. Nokia FREE. M...</td>\n",
       "    </tr>\n",
       "    <tr>\n",
       "      <th>2</th>\n",
       "      <td>spam</td>\n",
       "      <td>Do you want a new Video handset? 750 any time ...</td>\n",
       "    </tr>\n",
       "    <tr>\n",
       "      <th>3</th>\n",
       "      <td>spam</td>\n",
       "      <td>Hi if ur lookin 4 saucy daytime fun wiv busty ...</td>\n",
       "    </tr>\n",
       "    <tr>\n",
       "      <th>4</th>\n",
       "      <td>spam</td>\n",
       "      <td>09066362231 URGENT! Your mobile No 07xxxxxxxxx...</td>\n",
       "    </tr>\n",
       "  </tbody>\n",
       "</table>\n",
       "</div>"
      ],
      "text/plain": [
       "  Category                                            Message\n",
       "0     spam  URGENT, IMPORTANT INFORMATION FOR O2 USER. TOD...\n",
       "1     spam  Panasonic & BluetoothHdset FREE. Nokia FREE. M...\n",
       "2     spam  Do you want a new Video handset? 750 any time ...\n",
       "3     spam  Hi if ur lookin 4 saucy daytime fun wiv busty ...\n",
       "4     spam  09066362231 URGENT! Your mobile No 07xxxxxxxxx..."
      ]
     },
     "execution_count": 66,
     "metadata": {},
     "output_type": "execute_result"
    }
   ],
   "source": [
    "df.head()"
   ]
  },
  {
   "cell_type": "code",
   "execution_count": 67,
   "id": "a7cfc933",
   "metadata": {},
   "outputs": [],
   "source": [
    "import string\n",
    "\n",
    "#preprocessing the data\n",
    "\n",
    "def preprocess_text(text):\n",
    "    text = text.lower()\n",
    "    text = text.translate(str.maketrans('','', string.punctuation))\n",
    "    return text"
   ]
  },
  {
   "cell_type": "code",
   "execution_count": 68,
   "id": "1b4097fa",
   "metadata": {},
   "outputs": [],
   "source": [
    "df['Message'] = df['Message'].apply(preprocess_text)"
   ]
  },
  {
   "cell_type": "code",
   "execution_count": 69,
   "id": "baaa37f5",
   "metadata": {},
   "outputs": [
    {
     "data": {
      "text/html": [
       "<div>\n",
       "<style scoped>\n",
       "    .dataframe tbody tr th:only-of-type {\n",
       "        vertical-align: middle;\n",
       "    }\n",
       "\n",
       "    .dataframe tbody tr th {\n",
       "        vertical-align: top;\n",
       "    }\n",
       "\n",
       "    .dataframe thead th {\n",
       "        text-align: right;\n",
       "    }\n",
       "</style>\n",
       "<table border=\"1\" class=\"dataframe\">\n",
       "  <thead>\n",
       "    <tr style=\"text-align: right;\">\n",
       "      <th></th>\n",
       "      <th>Category</th>\n",
       "      <th>Message</th>\n",
       "    </tr>\n",
       "  </thead>\n",
       "  <tbody>\n",
       "    <tr>\n",
       "      <th>0</th>\n",
       "      <td>spam</td>\n",
       "      <td>urgent important information for o2 user today...</td>\n",
       "    </tr>\n",
       "    <tr>\n",
       "      <th>1</th>\n",
       "      <td>spam</td>\n",
       "      <td>panasonic  bluetoothhdset free nokia free moto...</td>\n",
       "    </tr>\n",
       "    <tr>\n",
       "      <th>2</th>\n",
       "      <td>spam</td>\n",
       "      <td>do you want a new video handset 750 any time a...</td>\n",
       "    </tr>\n",
       "    <tr>\n",
       "      <th>3</th>\n",
       "      <td>spam</td>\n",
       "      <td>hi if ur lookin 4 saucy daytime fun wiv busty ...</td>\n",
       "    </tr>\n",
       "    <tr>\n",
       "      <th>4</th>\n",
       "      <td>spam</td>\n",
       "      <td>09066362231 urgent your mobile no 07xxxxxxxxx ...</td>\n",
       "    </tr>\n",
       "  </tbody>\n",
       "</table>\n",
       "</div>"
      ],
      "text/plain": [
       "  Category                                            Message\n",
       "0     spam  urgent important information for o2 user today...\n",
       "1     spam  panasonic  bluetoothhdset free nokia free moto...\n",
       "2     spam  do you want a new video handset 750 any time a...\n",
       "3     spam  hi if ur lookin 4 saucy daytime fun wiv busty ...\n",
       "4     spam  09066362231 urgent your mobile no 07xxxxxxxxx ..."
      ]
     },
     "execution_count": 69,
     "metadata": {},
     "output_type": "execute_result"
    }
   ],
   "source": [
    "df.head()"
   ]
  },
  {
   "cell_type": "code",
   "execution_count": 70,
   "id": "acb7c725",
   "metadata": {},
   "outputs": [],
   "source": [
    " # Tokenize\n",
    "\n",
    "def tokenize(text):\n",
    "    return text.split()\n",
    "\n",
    "df['tokens'] = df['Message'].apply(tokenize)"
   ]
  },
  {
   "cell_type": "code",
   "execution_count": 71,
   "id": "43f2ecd6",
   "metadata": {},
   "outputs": [
    {
     "data": {
      "text/html": [
       "<div>\n",
       "<style scoped>\n",
       "    .dataframe tbody tr th:only-of-type {\n",
       "        vertical-align: middle;\n",
       "    }\n",
       "\n",
       "    .dataframe tbody tr th {\n",
       "        vertical-align: top;\n",
       "    }\n",
       "\n",
       "    .dataframe thead th {\n",
       "        text-align: right;\n",
       "    }\n",
       "</style>\n",
       "<table border=\"1\" class=\"dataframe\">\n",
       "  <thead>\n",
       "    <tr style=\"text-align: right;\">\n",
       "      <th></th>\n",
       "      <th>Category</th>\n",
       "      <th>Message</th>\n",
       "      <th>tokens</th>\n",
       "    </tr>\n",
       "  </thead>\n",
       "  <tbody>\n",
       "    <tr>\n",
       "      <th>0</th>\n",
       "      <td>spam</td>\n",
       "      <td>urgent important information for o2 user today...</td>\n",
       "      <td>[urgent, important, information, for, o2, user...</td>\n",
       "    </tr>\n",
       "    <tr>\n",
       "      <th>1</th>\n",
       "      <td>spam</td>\n",
       "      <td>panasonic  bluetoothhdset free nokia free moto...</td>\n",
       "      <td>[panasonic, bluetoothhdset, free, nokia, free,...</td>\n",
       "    </tr>\n",
       "    <tr>\n",
       "      <th>2</th>\n",
       "      <td>spam</td>\n",
       "      <td>do you want a new video handset 750 any time a...</td>\n",
       "      <td>[do, you, want, a, new, video, handset, 750, a...</td>\n",
       "    </tr>\n",
       "    <tr>\n",
       "      <th>3</th>\n",
       "      <td>spam</td>\n",
       "      <td>hi if ur lookin 4 saucy daytime fun wiv busty ...</td>\n",
       "      <td>[hi, if, ur, lookin, 4, saucy, daytime, fun, w...</td>\n",
       "    </tr>\n",
       "    <tr>\n",
       "      <th>4</th>\n",
       "      <td>spam</td>\n",
       "      <td>09066362231 urgent your mobile no 07xxxxxxxxx ...</td>\n",
       "      <td>[09066362231, urgent, your, mobile, no, 07xxxx...</td>\n",
       "    </tr>\n",
       "  </tbody>\n",
       "</table>\n",
       "</div>"
      ],
      "text/plain": [
       "  Category                                            Message  \\\n",
       "0     spam  urgent important information for o2 user today...   \n",
       "1     spam  panasonic  bluetoothhdset free nokia free moto...   \n",
       "2     spam  do you want a new video handset 750 any time a...   \n",
       "3     spam  hi if ur lookin 4 saucy daytime fun wiv busty ...   \n",
       "4     spam  09066362231 urgent your mobile no 07xxxxxxxxx ...   \n",
       "\n",
       "                                              tokens  \n",
       "0  [urgent, important, information, for, o2, user...  \n",
       "1  [panasonic, bluetoothhdset, free, nokia, free,...  \n",
       "2  [do, you, want, a, new, video, handset, 750, a...  \n",
       "3  [hi, if, ur, lookin, 4, saucy, daytime, fun, w...  \n",
       "4  [09066362231, urgent, your, mobile, no, 07xxxx...  "
      ]
     },
     "execution_count": 71,
     "metadata": {},
     "output_type": "execute_result"
    }
   ],
   "source": [
    "df.head()"
   ]
  },
  {
   "cell_type": "code",
   "execution_count": 72,
   "id": "a18f2787",
   "metadata": {},
   "outputs": [],
   "source": [
    "vocab = set()\n",
    "for tokens in df['tokens']:\n",
    "    vocab.update(tokens)"
   ]
  },
  {
   "cell_type": "code",
   "execution_count": 73,
   "id": "49dba2a9",
   "metadata": {},
   "outputs": [],
   "source": [
    "# Initialize dictionary\n",
    "\n",
    "word_counts = defaultdict(lambda: {'ham':0,'spam':0})\n",
    "class_counts = {'ham':0, 'spam':0}"
   ]
  },
  {
   "cell_type": "code",
   "execution_count": 74,
   "id": "27d27e23",
   "metadata": {},
   "outputs": [],
   "source": [
    "for i, row in df.iterrows():\n",
    "    class_label = row['Category']\n",
    "    class_counts[class_label] += 1\n",
    "    for word in row['tokens']:\n",
    "        word_counts[word][class_label] += 1"
   ]
  },
  {
   "cell_type": "code",
   "execution_count": null,
   "id": "e495dbe4",
   "metadata": {},
   "outputs": [],
   "source": [
    "# Calculate probabilities\n",
    "\n",
    "total_samples = len(df)\n",
    "prior_ham = class_counts['ham'] / total_samples\n",
    "prior_spam = class_counts['spam'] / total_samples"
   ]
  },
  {
   "cell_type": "code",
   "execution_count": 76,
   "id": "41fa202b",
   "metadata": {},
   "outputs": [],
   "source": [
    "# Calculate likelihood probabilities\n",
    "\n",
    "likelihood_prob = {}\n",
    "for word in vocab:\n",
    "    likelihood_prob[word] = {\n",
    "        'ham': (word_counts[word]['ham']+1) / (class_counts['ham'] + len(vocab)),\n",
    "        'spam': (word_counts[word]['spam']+1) / (class_counts['spam'] + len(vocab))\n",
    "    }"
   ]
  },
  {
   "cell_type": "code",
   "execution_count": 77,
   "id": "5ea74ced",
   "metadata": {},
   "outputs": [],
   "source": [
    "# Prediction function\n",
    "\n",
    "def predict(email):\n",
    "    tokens = tokenize(preprocess_text(email))\n",
    "    unseen_ham = 1 / (class_counts['ham'] + len(vocab))\n",
    "    unseen_spam = 1 / (class_counts['spam'] + len(vocab))\n",
    "\n",
    "    log_prob_ham = np.log(prior_ham)\n",
    "    log_prob_spam = np.log(prior_spam)\n",
    "\n",
    "    for word in tokens:\n",
    "        prob_ham = likelihood_prob.get(word, {'ham': unseen_ham})['ham']\n",
    "        prob_spam = likelihood_prob.get(word, {'spam': unseen_spam})['spam']\n",
    "        log_prob_ham += np.log(prob_ham)\n",
    "        log_prob_spam += np.log(prob_spam)\n",
    "\n",
    "    print(\"Log P(Ham):\", log_prob_ham)\n",
    "    print(\"Log P(Spam):\", log_prob_spam)\n",
    "\n",
    "    return 'ham' if log_prob_ham > log_prob_spam else 'spam'\n"
   ]
  },
  {
   "cell_type": "code",
   "execution_count": 78,
   "id": "1605a946",
   "metadata": {},
   "outputs": [
    {
     "name": "stdout",
     "output_type": "stream",
     "text": [
      "Log P(Ham): -45.40406366418128\n",
      "Log P(Spam): -38.771398106968206\n",
      "Predicted label:  spam\n"
     ]
    }
   ],
   "source": [
    "# Inference\n",
    "new_email = \"Get a free iPhone today, click here\"\n",
    "predicted_label = predict(new_email)\n",
    "print(\"Predicted label: \", predicted_label)"
   ]
  }
 ],
 "metadata": {
  "kernelspec": {
   "display_name": "base",
   "language": "python",
   "name": "python3"
  },
  "language_info": {
   "codemirror_mode": {
    "name": "ipython",
    "version": 3
   },
   "file_extension": ".py",
   "mimetype": "text/x-python",
   "name": "python",
   "nbconvert_exporter": "python",
   "pygments_lexer": "ipython3",
   "version": "3.12.7"
  }
 },
 "nbformat": 4,
 "nbformat_minor": 5
}
